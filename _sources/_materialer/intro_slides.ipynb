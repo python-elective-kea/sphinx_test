{
 "cells": [
  {
   "cell_type": "markdown",
   "metadata": {
    "slideshow": {
     "slide_type": "slide"
    }
   },
   "source": [
    "# Introduction to Python "
   ]
  },
  {
   "cell_type": "markdown",
   "metadata": {
    "slideshow": {
     "slide_type": "slide"
    }
   },
   "source": [
    "### Underviser\n",
    "Claus Bové        \n",
    "\n",
    "Underviser \n",
    "\n",
    "* Introduktion til python\n",
    "* Teknologi på 2. og 3. semester\n",
    "* Software Arkitektur på ITA\n",
    "* Cloud på ITA\n",
    "* Agil udvikling på ITA\n",
    "\n",
    "Jeg kan kontaktes på clbo@kea.dk    \n",
    "_Jeg svarer ikke på henvendelser via andre medier 🤷‍♀️_"
   ]
  },
  {
   "cell_type": "markdown",
   "metadata": {
    "slideshow": {
     "slide_type": "slide"
    }
   },
   "source": [
    "### Kursus Materiale\n",
    "https://python-elective-kea.github.io/fall2025/     \n",
    "\n",
    "Links på fronter til dette hver uge."
   ]
  },
  {
   "cell_type": "markdown",
   "metadata": {
    "slideshow": {
     "slide_type": "slide"
    }
   },
   "source": [
    "## Læringsmål\n",
    "\n",
    "Målet med dette valgfag er at gøre dig til en bedre og mere klartænkende programmør og at gøre dig i stand til at opnå dette ved at bruge Python som dit programmeringssprog.\n",
    "\n",
    "Alt i alt bør du ved slutningen af dette semester have de kompetencer, der kræves for at have et job, hvor du skal bruge Python.\n",
    "\n",
    "Det vigtigste læringsmål er, at du i sidste ende vil være i stand til at skrive **Pythonic kode**.\n",
    "\n",
    "**[De formelle læringsmål](about.md)**"
   ]
  },
  {
   "cell_type": "markdown",
   "metadata": {
    "slideshow": {
     "slide_type": "slide"
    }
   },
   "source": [
    "## Arbejdsinsats\n",
    "\n",
    "* 10 ETCS\n",
    "* (1650 / 2) / 3 = 275 timer på et semester\n",
    "* 275 / 20 = 14 timer om ugen  \n",
    "This course is 10 ECTS points which translates to 13 hours pr. week, including classes.\n",
    "\n",
    "* 12 weeks of teaching    \n",
    "* 2 weeks of exam preperation"
   ]
  },
  {
   "cell_type": "markdown",
   "metadata": {
    "slideshow": {
     "slide_type": "slide"
    }
   },
   "source": [
    "## Exam  \n",
    "\n",
    "https://python-elective-kea.github.io/spring2024/exam.html \n"
   ]
  },
  {
   "cell_type": "markdown",
   "metadata": {
    "slideshow": {
     "slide_type": "slide"
    }
   },
   "source": [
    "## Mandatory Assignments\n",
    "2 mandatory assignments in this elective"
   ]
  }
 ],
 "metadata": {
  "kernelspec": {
   "display_name": ".venv",
   "language": "python",
   "name": "python3"
  },
  "language_info": {
   "name": "python",
   "version": "3.11.4"
  },
  "orig_nbformat": 4
 },
 "nbformat": 4,
 "nbformat_minor": 2
}
