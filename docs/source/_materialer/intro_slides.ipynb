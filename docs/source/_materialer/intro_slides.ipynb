{
 "cells": [
  {
   "cell_type": "markdown",
   "metadata": {
    "slideshow": {
     "slide_type": "slide"
    }
   },
   "source": [
    "# Introduction to Python "
   ]
  },
  {
   "cell_type": "markdown",
   "metadata": {
    "slideshow": {
     "slide_type": "slide"
    }
   },
   "source": [
    "### Underviser\n",
    "Claus Bové        \n",
    "\n",
    "Underviser \n",
    "\n",
    "* Introduktion til python\n",
    "* Teknologi på 2. og 3. semester\n",
    "* Software Arkitektur på ITA\n",
    "* Cloud på ITA\n",
    "* Agil udvikling på ITA\n",
    "\n",
    "Jeg kan kontaktes på clbo@kea.dk    \n",
    "_Jeg svarer ikke på henvendelser via andre medier 🤷‍♀️_"
   ]
  },
  {
   "cell_type": "markdown",
   "metadata": {
    "slideshow": {
     "slide_type": "slide"
    }
   },
   "source": [
    "### Kursus Materiale\n",
    "https://python-elective-kea.github.io/fall2025/     \n",
    "\n",
    "Links på fronter til dette hver uge."
   ]
  },
  {
   "cell_type": "markdown",
   "metadata": {
    "slideshow": {
     "slide_type": "slide"
    }
   },
   "source": [
    "## Læringsmål\n",
    "\n",
    "Målet med dette valgfag er at gøre dig til en bedre og mere klartænkende programmør og at gøre dig i stand til at opnå dette ved at bruge Python som dit programmeringssprog.\n",
    "\n",
    "Alt i alt bør du ved slutningen af dette semester have de kompetencer, der kræves for at have et job, hvor du skal bruge Python.\n",
    "\n",
    "Det vigtigste læringsmål er, at du i sidste ende vil være i stand til at skrive **Pythonic kode**.\n",
    "\n",
    "**[De formelle læringsmål](about.md)**"
   ]
  },
  {
   "cell_type": "markdown",
   "metadata": {
    "slideshow": {
     "slide_type": "slide"
    }
   },
   "source": [
    "## Arbejdsinsats\n",
    "\n",
    "* 10 ETCS\n",
    "* (1650 / 2) / 3 = 275 timer på et semester\n",
    "* 275 / 20 = 14 timer om ugen  \n",
    "This course is 10 ECTS points which translates to 13 hours pr. week, including classes.\n",
    "\n",
    "* 12 weeks of teaching    \n",
    "* 2 weeks of exam preperation"
   ]
  },
  {
   "cell_type": "markdown",
   "metadata": {
    "slideshow": {
     "slide_type": "slide"
    }
   },
   "source": [
    "## Eksamen\n",
    "Eksamen i dette valgfag er en mundtlig prøve baseret på en synopsis.\n",
    "\n",
    "## Synopsis aflevering\n",
    "Et par uger inden den mundtlige eksamen skal du aflevere din synopsis på Wiseflow. Hvis du ikke gør dette kan du ikke komme til den efterfølgende mundtlige eksamen. Synopsen skal følge disse retningslinier:\n",
    "\n",
    "* Max en A4 side (alle 4 emner skal være på en A4 side).\n",
    "* Giv en kort beskrivelse, eventuelt i punktform af hvad du vil præsentere inden for hvert emne til eksamenen. \n",
    "* Du kan se et eksempel på en synopsis [her](formalia/exam_synopsis_template.md)\n",
    "\n",
    "Husk, at en god synopsis klart og præcist præsenterer dit emne, formålet med din præsentation og de vigtigste punkter, du vil dække. Det gør det nemmere for dem, der skal vurdere dig, at følge din præsentation og bedømme din præstation.\n",
    "\n",
    "## Den mundtlige eksamen\n",
    "\n",
    "* Før eksamen skal du have forberedt en 10-minutters præsentation for hvert af de 3 emner. \n",
    "* I begyndelsen af eksamen trækker du tilfældigt et emne, som du skal snakke om til din eksamen.\n",
    "* Hold din 10-minutters præsentation om det valgte emne.\n",
    "* Efter din præsentation følger en 10-minutters eksamination inden for dette emne og andre relaterede emner.\n",
    "\n",
    "## Eksamensemnerne\n",
    "Til din eksamen skal du demonstrere, i hvor høj grad du opfylder læringsmålene for dette valgfag. Dette skal du gøre ved at demonstrere din viden, dine færdigheder og dine kompetencer inden for disse emner:\n",
    "\n",
    "* Pythons datastrukturer og boolsk logik\n",
    "* Pythonic OOP\n",
    "* Funktioner i Python (Indbyggede funktioner, funktioner generelt, dekoratorer osv.)\n",
    "\n",
    "Du kan lade dig inspirere i forhold til hvad du skal snakke om i denne [synopsis template](formalia/exam_synopsis_template.md)\n",
    "\n",
    "## Karaktergivning\n",
    "Eksamen bedømmes efter 7-trinsskalaen.\n",
    "\n"
   ]
  },
  {
   "cell_type": "markdown",
   "metadata": {
    "slideshow": {
     "slide_type": "slide"
    }
   },
   "source": [
    "## Mandatory Assignments\n",
    "2 mandatory assignments in this elective"
   ]
  }
 ],
 "metadata": {
  "kernelspec": {
   "display_name": ".venv",
   "language": "python",
   "name": "python3"
  },
  "language_info": {
   "name": "python",
   "version": "3.11.4"
  },
  "orig_nbformat": 4
 },
 "nbformat": 4,
 "nbformat_minor": 2
}
